{
 "cells": [
  {
   "cell_type": "code",
   "execution_count": 1,
   "metadata": {},
   "outputs": [
    {
     "name": "stderr",
     "output_type": "stream",
     "text": [
      "Using TensorFlow backend.\n"
     ]
    }
   ],
   "source": [
    "import pickle\n",
    "from utils import *\n",
    "from model import *"
   ]
  },
  {
   "cell_type": "code",
   "execution_count": 2,
   "metadata": {},
   "outputs": [],
   "source": [
    "# Load the processed data\n",
    "with open('SVO.p', 'rb') as f:\n",
    "    verbs, objects, relations, pairs, _ = pickle.load(f)"
   ]
  },
  {
   "cell_type": "code",
   "execution_count": 3,
   "metadata": {},
   "outputs": [],
   "source": [
    "# Do some pre-train cleanup\n",
    "relations = flatten(relations)\n",
    "remove_dups(pairs)"
   ]
  },
  {
   "cell_type": "code",
   "execution_count": 4,
   "metadata": {},
   "outputs": [],
   "source": [
    "# Instantiate the core model\n",
    "base = base_model(num_verbs=len(verbs)+1, sentence_space=60)"
   ]
  },
  {
   "cell_type": "markdown",
   "metadata": {},
   "source": [
    "## Base model\n",
    "The base model accepts 2 (Verb, Object) tuples. Each tuple is converted to a vector sequence and passed through a recurrent function which outputs a phrasal embedding. The cosine distance of the two embeddings is computed, and then passed through a linear regression layer that predicts whether the two phrases are semantically close. \n",
    "\n",
    "![base_model](Base_model.svg)"
   ]
  },
  {
   "cell_type": "code",
   "execution_count": 5,
   "metadata": {},
   "outputs": [
    {
     "name": "stderr",
     "output_type": "stream",
     "text": [
      "/usr/local/lib/python3.5/dist-packages/ipykernel_launcher.py:4: UserWarning: The semantics of the Keras 2 argument `steps_per_epoch` is not the same as the Keras 1 argument `samples_per_epoch`. `steps_per_epoch` is the number of batches to draw from the generator at each epoch. Basically steps_per_epoch = samples_per_epoch/batch_size. Similarly `nb_val_samples`->`validation_steps` and `val_samples`->`steps` arguments have changed. Update your method calls accordingly.\n",
      "  after removing the cwd from sys.path.\n",
      "/usr/local/lib/python3.5/dist-packages/ipykernel_launcher.py:4: UserWarning: Update your `fit_generator` call to the Keras 2 API: `fit_generator(<generator..., verbose=False, epochs=25, steps_per_epoch=100)`\n",
      "  after removing the cwd from sys.path.\n"
     ]
    }
   ],
   "source": [
    "# The model is rather shallow so just a few epochs should suffice\n",
    "h = base.fit_generator(data_generator(verbs, objects, pairs, \n",
    "                                      random_chance = 0.5, return_signatures=False),\n",
    "                       steps_per_epoch=100, nb_epoch=25, verbose=False)"
   ]
  },
  {
   "cell_type": "code",
   "execution_count": 6,
   "metadata": {},
   "outputs": [
    {
     "data": {
      "image/png": "[encoded data removed]",
      "text/plain": [
       "<matplotlib.figure.Figure at 0x7f758dba6c18>"
      ]
     },
     "metadata": {},
     "output_type": "display_data"
    }
   ],
   "source": [
    "histplot(h.history)"
   ]
  },
  {
   "cell_type": "code",
   "execution_count": null,
   "metadata": {},
   "outputs": [],
   "source": [
    "# Now instantiate the mapping model\n",
    "mapper = mapping_model(base, sentence_space=60, num_verbs=len(verbs)+1, freeze=True,\n",
    "                       embedding_activation='linear', lr=0.00005)"
   ]
  },
  {
   "cell_type": "markdown",
   "metadata": {},
   "source": [
    "## Mapping model\n",
    "The model extends the base model by accepting two additional inputs, the one-hot encodings of the two verbs. It (optionally) freezes the base model, disallowing further training of the recurrent and regression layers. The verb encodings are embedded to 2nd-order tensors. These, multiplied by the object vectors, produce a new pair of phrasal embeddings. \n",
    "\n",
    "The objective function is multi-fold; \n",
    "1. the recurrent and matmul embeddings need to **always** be classified as a paraphrase (for each of the two phrases),\n",
    "2. the matmul embeddings of the two phrases need to be classified as a paraphrase depending on the training sample\n",
    "\n",
    "![base_model](Embedding.svg)"
   ]
  },
  {
   "cell_type": "code",
   "execution_count": null,
   "metadata": {},
   "outputs": [
    {
     "name": "stderr",
     "output_type": "stream",
     "text": [
      "/usr/local/lib/python3.5/dist-packages/ipykernel_launcher.py:5: UserWarning: The semantics of the Keras 2 argument `steps_per_epoch` is not the same as the Keras 1 argument `samples_per_epoch`. `steps_per_epoch` is the number of batches to draw from the generator at each epoch. Basically steps_per_epoch = samples_per_epoch/batch_size. Similarly `nb_val_samples`->`validation_steps` and `val_samples`->`steps` arguments have changed. Update your method calls accordingly.\n",
      "  \"\"\"\n",
      "/usr/local/lib/python3.5/dist-packages/ipykernel_launcher.py:5: UserWarning: Update your `fit_generator` call to the Keras 2 API: `fit_generator(<generator..., verbose=False, epochs=50, steps_per_epoch=100)`\n",
      "  \"\"\"\n"
     ]
    }
   ],
   "source": [
    "# Fitting the mapping model requires more negative samples, larger batch size, more epochs and a slower learning rate to get good results\n",
    "g = mapper.fit_generator(data_generator(verbs, objects, pairs,\n",
    "                                        random_chance=0.7, batch_size = 128, \n",
    "                                        return_signatures=True),\n",
    "                         steps_per_epoch=100, nb_epoch=50, verbose=False)"
   ]
  },
  {
   "cell_type": "code",
   "execution_count": null,
   "metadata": {},
   "outputs": [],
   "source": [
    "histplot(g.history)"
   ]
  },
  {
   "cell_type": "code",
   "execution_count": null,
   "metadata": {},
   "outputs": [],
   "source": []
  }
 ],
 "metadata": {
  "kernelspec": {
   "display_name": "Python 3",
   "language": "python",
   "name": "python3"
  },
  "language_info": {
   "codemirror_mode": {
    "name": "ipython",
    "version": 3
   },
   "file_extension": ".py",
   "mimetype": "text/x-python",
   "name": "python",
   "nbconvert_exporter": "python",
   "pygments_lexer": "ipython3",
   "version": "3.5.2"
  }
 },
 "nbformat": 4,
 "nbformat_minor": 2
}
